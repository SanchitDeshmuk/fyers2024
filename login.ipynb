{
 "cells": [
  {
   "cell_type": "code",
   "execution_count": 5,
   "metadata": {},
   "outputs": [
    {
     "name": "stdout",
     "output_type": "stream",
     "text": [
      "https://api-t1.fyers.in/api/v3/generate-authcode?client_id=GCEG4OMS1B-100&redirect_uri=https%3A%2F%2Fwww.google.com%2F&response_type=code&state=None\n"
     ]
    }
   ],
   "source": [
    "# Import the required module from the fyers_apiv3 package\n",
    "from fyers_apiv3 import fyersModel\n",
    "\n",
    "# Replace these values with your actual API credentials\n",
    "client_id = 'GCEG4OMS1B-100'\n",
    "secret_key = 'P09QMZT9GH'\n",
    "redirect_uri = 'https://www.google.com/'\n",
    "user_name = 'XS08415'\n",
    "\n",
    "totp_key = 'RU376TSN3LAENIQZT3PNB2HWWYORMSNF'\n",
    "\n",
    "response_type = \"code\"  \n",
    "state = \"sample_state\"\n",
    "\n",
    "# Create a session model with the provided credentials\n",
    "session = fyersModel.SessionModel(\n",
    "    client_id=client_id,\n",
    "    secret_key=secret_key,\n",
    "    redirect_uri=redirect_uri,\n",
    "    response_type=response_type\n",
    ")\n",
    "\n",
    "# Generate the auth code using the session model\n",
    "response = session.generate_authcode()\n",
    "\n",
    "# Print the auth code received in the response\n",
    "print(response)"
   ]
  },
  {
   "cell_type": "code",
   "execution_count": 6,
   "metadata": {},
   "outputs": [
    {
     "data": {
      "text/plain": [
       "'https://www.google.com/?s=ok&code=200&auth_code=eyJ0eXAiOiJKV1QiLCJhbGciOiJIUzI1NiJ9.eyJpc3MiOiJhcGkubG9naW4uZnllcnMuaW4iLCJpYXQiOjE3MzEwODQ5MzIsImV4cCI6MTczMTExNDkzMiwibmJmIjoxNzMxMDg0MzMyLCJhdWQiOiJbXCJ4OjBcIiwgXCJ4OjFcIiwgXCJ4OjJcIiwgXCJkOjFcIiwgXCJkOjJcIiwgXCJ4OjFcIiwgXCJ4OjBcIl0iLCJzdWIiOiJhdXRoX2NvZGUiLCJkaXNwbGF5X25hbWUiOiJYUzA4NDE1Iiwib21zIjoiSzEiLCJoc21fa2V5IjoiMDEyNDMxNDY5OGRjZDY5YzMyZDQ3M2EzOTEyZDg2ZDhjYmJjYWIwZTFiZDNjZDNkNWZkY2ZmMTciLCJub25jZSI6IiIsImFwcF9pZCI6IkdDRUc0T01TMUIiLCJ1dWlkIjoiMDQwNjY2OWRiMTJiNDJiMmFiMDQ5ZTk2NmVmMGM2MzQiLCJpcEFkZHIiOiIwLjAuMC4wIiwic2NvcGUiOiIifQ.SSHt_p3xEkCTCOC8JzPwqtAzMWCaF1VtdCiYqLRr9jM&state=None'"
      ]
     },
     "execution_count": 6,
     "metadata": {},
     "output_type": "execute_result"
    }
   ],
   "source": [
    "uri = 'https://www.google.com/?s=ok&code=200&auth_code=eyJ0eXAiOiJKV1QiLCJhbGciOiJIUzI1NiJ9.eyJpc3MiOiJhcGkubG9naW4uZnllcnMuaW4iLCJpYXQiOjE3MzEwODQ5MzIsImV4cCI6MTczMTExNDkzMiwibmJmIjoxNzMxMDg0MzMyLCJhdWQiOiJbXCJ4OjBcIiwgXCJ4OjFcIiwgXCJ4OjJcIiwgXCJkOjFcIiwgXCJkOjJcIiwgXCJ4OjFcIiwgXCJ4OjBcIl0iLCJzdWIiOiJhdXRoX2NvZGUiLCJkaXNwbGF5X25hbWUiOiJYUzA4NDE1Iiwib21zIjoiSzEiLCJoc21fa2V5IjoiMDEyNDMxNDY5OGRjZDY5YzMyZDQ3M2EzOTEyZDg2ZDhjYmJjYWIwZTFiZDNjZDNkNWZkY2ZmMTciLCJub25jZSI6IiIsImFwcF9pZCI6IkdDRUc0T01TMUIiLCJ1dWlkIjoiMDQwNjY2OWRiMTJiNDJiMmFiMDQ5ZTk2NmVmMGM2MzQiLCJpcEFkZHIiOiIwLjAuMC4wIiwic2NvcGUiOiIifQ.SSHt_p3xEkCTCOC8JzPwqtAzMWCaF1VtdCiYqLRr9jM&state=None'\n",
    "uri"
   ]
  },
  {
   "cell_type": "code",
   "execution_count": 7,
   "metadata": {},
   "outputs": [
    {
     "data": {
      "text/plain": [
       "'eyJ0eXAiOiJKV1QiLCJhbGciOiJIUzI1NiJ9.eyJpc3MiOiJhcGkubG9naW4uZnllcnMuaW4iLCJpYXQiOjE3MzEwODQ5MzIsImV4cCI6MTczMTExNDkzMiwibmJmIjoxNzMxMDg0MzMyLCJhdWQiOiJbXCJ4OjBcIiwgXCJ4OjFcIiwgXCJ4OjJcIiwgXCJkOjFcIiwgXCJkOjJcIiwgXCJ4OjFcIiwgXCJ4OjBcIl0iLCJzdWIiOiJhdXRoX2NvZGUiLCJkaXNwbGF5X25hbWUiOiJYUzA4NDE1Iiwib21zIjoiSzEiLCJoc21fa2V5IjoiMDEyNDMxNDY5OGRjZDY5YzMyZDQ3M2EzOTEyZDg2ZDhjYmJjYWIwZTFiZDNjZDNkNWZkY2ZmMTciLCJub25jZSI6IiIsImFwcF9pZCI6IkdDRUc0T01TMUIiLCJ1dWlkIjoiMDQwNjY2OWRiMTJiNDJiMmFiMDQ5ZTk2NmVmMGM2MzQiLCJpcEFkZHIiOiIwLjAuMC4wIiwic2NvcGUiOiIifQ.SSHt_p3xEkCTCOC8JzPwqtAzMWCaF1VtdCiYqLRr9jM'"
      ]
     },
     "execution_count": 7,
     "metadata": {},
     "output_type": "execute_result"
    }
   ],
   "source": [
    "s1 = uri.split('auth_code=')\n",
    "auth = s1[1].split('&state')[0]\n",
    "auth"
   ]
  },
  {
   "cell_type": "code",
   "execution_count": 8,
   "metadata": {},
   "outputs": [
    {
     "name": "stdout",
     "output_type": "stream",
     "text": [
      "{'s': 'ok', 'code': 200, 'message': '', 'access_token': 'eyJ0eXAiOiJKV1QiLCJhbGciOiJIUzI1NiJ9.eyJpc3MiOiJhcGkuZnllcnMuaW4iLCJpYXQiOjE3MzEwODQ5NjQsImV4cCI6MTczMTExMjIwNCwibmJmIjoxNzMxMDg0OTY0LCJhdWQiOlsieDowIiwieDoxIiwieDoyIiwiZDoxIiwiZDoyIiwieDoxIiwieDowIl0sInN1YiI6ImFjY2Vzc190b2tlbiIsImF0X2hhc2giOiJnQUFBQUFCbkxrS2tLSWpDbDlCZmE2ZkhFemdCVGM4RzB3bndBczVVNnpSRkd2dWprc2puZUswX0NCSUg3YW9oT1Vwa1dwLWFtYlN0SXAzM3pfTVpvNFptYjJ6bG5DQnJpSFhJZ1BZOXB4STAtY1M5bENJaGZWaz0iLCJkaXNwbGF5X25hbWUiOiJTQU5DSElUIERFU0hNVUtIIiwib21zIjoiSzEiLCJoc21fa2V5IjoiMDEyNDMxNDY5OGRjZDY5YzMyZDQ3M2EzOTEyZDg2ZDhjYmJjYWIwZTFiZDNjZDNkNWZkY2ZmMTciLCJmeV9pZCI6IlhTMDg0MTUiLCJhcHBUeXBlIjoxMDAsInBvYV9mbGFnIjoiTiJ9.lFYsDNW4UydgLLoaIfyPT7P68MkaS9Nz5Z5MdvMmMTs', 'refresh_token': 'eyJ0eXAiOiJKV1QiLCJhbGciOiJIUzI1NiJ9.eyJpc3MiOiJhcGkuZnllcnMuaW4iLCJpYXQiOjE3MzEwODQ5NjQsImV4cCI6MTczMjMyMTgwNCwibmJmIjoxNzMxMDg0OTY0LCJhdWQiOlsieDowIiwieDoxIiwieDoyIiwiZDoxIiwiZDoyIiwieDoxIiwieDowIl0sInN1YiI6InJlZnJlc2hfdG9rZW4iLCJhdF9oYXNoIjoiZ0FBQUFBQm5Ma0trS0lqQ2w5QmZhNmZIRXpnQlRjOEcwd253QXM1VTZ6UkZHdnVqa3NqbmVLMF9DQklIN2FvaE9VcGtXcC1hbWJTdElwMzN6X01abzRabWIyemxuQ0JyaUhYSWdQWTlweEkwLWNTOWxDSWhmVms9IiwiZGlzcGxheV9uYW1lIjoiU0FOQ0hJVCBERVNITVVLSCIsIm9tcyI6IksxIiwiaHNtX2tleSI6IjAxMjQzMTQ2OThkY2Q2OWMzMmQ0NzNhMzkxMmQ4NmQ4Y2JiY2FiMGUxYmQzY2QzZDVmZGNmZjE3IiwiZnlfaWQiOiJYUzA4NDE1IiwiYXBwVHlwZSI6MTAwLCJwb2FfZmxhZyI6Ik4ifQ.KSbTJ4sip4yl0tMA6AXUI4Gm1j_DAsyS02n9RprIUH4'}\n"
     ]
    }
   ],
   "source": [
    "# Import the required module from the fyers_apiv3 package\n",
    "from fyers_apiv3 import fyersModel\n",
    "\n",
    "# Define your Fyers API credentials\n",
    "client_id = 'GCEG4OMS1B-100'\n",
    "secret_key = 'P09QMZT9GH'\n",
    "redirect_uri = 'https://www.google.com/'\n",
    "\n",
    "response_type = \"code\" \n",
    "grant_type = \"authorization_code\"  \n",
    "\n",
    "# The authorization code received from Fyers after the user grants access\n",
    "auth_code = auth\n",
    "\n",
    "# Create a session object to handle the Fyers API authentication and token generation\n",
    "session = fyersModel.SessionModel(\n",
    "    client_id=client_id,\n",
    "    secret_key=secret_key, \n",
    "    redirect_uri=redirect_uri, \n",
    "    response_type=response_type, \n",
    "    grant_type=grant_type\n",
    ")\n",
    "\n",
    "# Set the authorization code in the session object\n",
    "session.set_token(auth_code)\n",
    "\n",
    "# Generate the access token using the authorization code\n",
    "response = session.generate_token()\n",
    "\n",
    "# Print the response, which should contain the access token and other details\n",
    "print(response)"
   ]
  },
  {
   "cell_type": "code",
   "execution_count": 9,
   "metadata": {},
   "outputs": [
    {
     "data": {
      "text/plain": [
       "'eyJ0eXAiOiJKV1QiLCJhbGciOiJIUzI1NiJ9.eyJpc3MiOiJhcGkuZnllcnMuaW4iLCJpYXQiOjE3MzEwODQ5NjQsImV4cCI6MTczMTExMjIwNCwibmJmIjoxNzMxMDg0OTY0LCJhdWQiOlsieDowIiwieDoxIiwieDoyIiwiZDoxIiwiZDoyIiwieDoxIiwieDowIl0sInN1YiI6ImFjY2Vzc190b2tlbiIsImF0X2hhc2giOiJnQUFBQUFCbkxrS2tLSWpDbDlCZmE2ZkhFemdCVGM4RzB3bndBczVVNnpSRkd2dWprc2puZUswX0NCSUg3YW9oT1Vwa1dwLWFtYlN0SXAzM3pfTVpvNFptYjJ6bG5DQnJpSFhJZ1BZOXB4STAtY1M5bENJaGZWaz0iLCJkaXNwbGF5X25hbWUiOiJTQU5DSElUIERFU0hNVUtIIiwib21zIjoiSzEiLCJoc21fa2V5IjoiMDEyNDMxNDY5OGRjZDY5YzMyZDQ3M2EzOTEyZDg2ZDhjYmJjYWIwZTFiZDNjZDNkNWZkY2ZmMTciLCJmeV9pZCI6IlhTMDg0MTUiLCJhcHBUeXBlIjoxMDAsInBvYV9mbGFnIjoiTiJ9.lFYsDNW4UydgLLoaIfyPT7P68MkaS9Nz5Z5MdvMmMTs'"
      ]
     },
     "execution_count": 9,
     "metadata": {},
     "output_type": "execute_result"
    }
   ],
   "source": [
    "access_token = response['access_token']\n",
    "access_token"
   ]
  },
  {
   "cell_type": "code",
   "execution_count": 10,
   "metadata": {},
   "outputs": [
    {
     "name": "stdout",
     "output_type": "stream",
     "text": [
      "{'s': 'ok', 'code': 200, 'message': '', 'data': {'fy_id': 'XS08415', 'name': 'SANCHIT DESHMUKH', 'image': None, 'display_name': None, 'pin_change_date': '06-12-2021 18:03:57', 'email_id': 'sanchitdeshmukh23@gmail.com', 'pwd_change_date': '25-10-2021 01:17:58;60', 'PAN': '---------', 'mobile_number': '8878588192', 'totp': True, 'pwd_to_expire': 90}}\n"
     ]
    }
   ],
   "source": [
    "# Initialize the FyersModel instance with your client_id, access_token, and enable async mode\n",
    "fyers = fyersModel.FyersModel(client_id=client_id, is_async=False, token=access_token, log_path=\"\")\n",
    "\n",
    "# Make a request to get the user profile information\n",
    "response = fyers.get_profile()\n",
    "\n",
    "# Print the response received from the Fyers API\n",
    "print(response)"
   ]
  }
 ],
 "metadata": {
  "kernelspec": {
   "display_name": "fyersv",
   "language": "python",
   "name": "python3"
  },
  "language_info": {
   "codemirror_mode": {
    "name": "ipython",
    "version": 3
   },
   "file_extension": ".py",
   "mimetype": "text/x-python",
   "name": "python",
   "nbconvert_exporter": "python",
   "pygments_lexer": "ipython3",
   "version": "3.12.5"
  }
 },
 "nbformat": 4,
 "nbformat_minor": 2
}
